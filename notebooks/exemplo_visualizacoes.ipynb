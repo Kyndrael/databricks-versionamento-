{
 "cells": [
  {
   "cell_type": "markdown",
   "metadata": {},
   "source": [
    "# 📊 Exemplo de Visualizações em Databricks\n",
    "Criando gráficos simples com dados Spark."
   ]
  },
  {
   "cell_type": "code",
   "execution_count": 1,
   "metadata": {},
   "outputs": [],
   "source": [
    "from pyspark.sql import SparkSession\n",
    "import matplotlib.pyplot as plt\n",
    "\n",
    "spark = SparkSession.builder.getOrCreate()\n",
    "\n",
    "dados = [(\"Categoria A\", 120), (\"Categoria B\", 80), (\"Categoria C\", 200)]\n",
    "df = spark.createDataFrame(dados, [\"categoria\", \"valor\"])\n",
    "df.show()"
   ]
  },
  {
   "cell_type": "code",
   "execution_count": 2,
   "metadata": {},
   "outputs": [],
   "source": [
    "# Converter Spark DF para Pandas para visualização\n",
    "pdf = df.toPandas()\n",
    "\n",
    "plt.bar(pdf['categoria'], pdf['valor'])\n",
    "plt.title(\"Valores por Categoria\")\n",
    "plt.xlabel(\"Categoria\")\n",
    "plt.ylabel(\"Valor\")\n",
    "plt.show()"
   ]
  }
 ],
 "metadata": {
  "language_info": {
   "name": "python"
  }
 },
 "nbformat": 4,
 "nbformat_minor": 5
}

