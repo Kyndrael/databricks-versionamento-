
{
 "cells": [
  {
   "cell_type": "markdown",
   "metadata": {},
   "source": [
    "# 🔎 Exemplo de Filtros em PySpark\n",
    "Este notebook mostra como filtrar dados em um DataFrame no Databricks."
   ]
  },
  {
   "cell_type": "code",
   "execution_count": 1,
   "metadata": {},
   "outputs": [],
   "source": [
    "from pyspark.sql import SparkSession\n",
    "from pyspark.sql.functions import col\n",
    "\n",
    "spark = SparkSession.builder.getOrCreate()\n",
    "\n",
    "dados = [(1, \"Jonathan\", 28), (2, \"Maria\", 34), (3, \"José\", 21)]\n",
    "df = spark.createDataFrame(dados, [\"id\", \"nome\", \"idade\"])\n",
    "df.show()"
   ]
  },
  {
   "cell_type": "code",
   "execution_count": 2,
   "metadata": {},
   "outputs": [],
   "source": [
    "# Filtro: apenas pessoas maiores de 25 anos\n",
    "df.filter(col(\"idade\") > 25).show()"
   ]
  }
 ],
 "metadata": {
  "language_info": {
   "name": "python"
  }
 },
 "nbformat": 4,
 "nbformat_minor": 5
}
